{
  "nbformat": 4,
  "nbformat_minor": 0,
  "metadata": {
    "colab": {
      "provenance": [],
      "collapsed_sections": [
        "QR-C7-tjwlkW",
        "3vOuWgUjwtJL",
        "z0fhO_R7ww1Y"
      ],
      "authorship_tag": "ABX9TyNmB+i78QKd6EZKOJdL6GqU",
      "include_colab_link": true
    },
    "kernelspec": {
      "name": "python3",
      "display_name": "Python 3"
    },
    "language_info": {
      "name": "python"
    }
  },
  "cells": [
    {
      "cell_type": "markdown",
      "metadata": {
        "id": "view-in-github",
        "colab_type": "text"
      },
      "source": [
        "<a href=\"https://colab.research.google.com/github/Paulina9555/014_gini_entropy/blob/main/014_gini_entropy.ipynb\" target=\"_parent\"><img src=\"https://colab.research.google.com/assets/colab-badge.svg\" alt=\"Open In Colab\"/></a>"
      ]
    },
    {
      "cell_type": "markdown",
      "source": [
        "## Spis treści:\n",
        "1. [Import bibliotek](#0)\n",
        "2. [Wskaźnik Giniego](#1)\n",
        "3. [Entropia](#2)\n",
        "4. [Zysk informacyjny](#3)"
      ],
      "metadata": {
        "id": "xOzaR_W_wg0y"
      }
    },
    {
      "cell_type": "markdown",
      "source": [
        "### <a name='0'></a> Import bibliotek"
      ],
      "metadata": {
        "id": "QR-C7-tjwlkW"
      }
    },
    {
      "cell_type": "code",
      "source": [
        "import numpy as np\n",
        "import pandas as pd\n",
        "import matplotlib.pyplot as plt\n",
        "import seaborn as sns\n",
        "import IPython.display as Image\n",
        "\n",
        "sns.set(font_scale=1.3)\n",
        "np.random.seed(42)"
      ],
      "metadata": {
        "id": "dkyvzkRSw2KM"
      },
      "execution_count": 2,
      "outputs": []
    },
    {
      "cell_type": "markdown",
      "source": [
        "### <a name='1'></a> Wskaźnik Giniego"
      ],
      "metadata": {
        "id": "3vOuWgUjwtJL"
      }
    },
    {
      "cell_type": "code",
      "source": [
        "1 - (50.150)**2 - (50.150) **2 - (50/150)**2"
      ],
      "metadata": {
        "colab": {
          "base_uri": "https://localhost:8080/"
        },
        "id": "M1NrH9kjxHvM",
        "outputId": "a89d6c4c-0f5f-46c8-e4fd-addd89708824"
      },
      "execution_count": 3,
      "outputs": [
        {
          "output_type": "execute_result",
          "data": {
            "text/plain": [
              "-5029.156111111111"
            ]
          },
          "metadata": {},
          "execution_count": 3
        }
      ]
    },
    {
      "cell_type": "code",
      "source": [
        "1 - (45/52)**2 - (6/52)**2 - (1/52)**2"
      ],
      "metadata": {
        "colab": {
          "base_uri": "https://localhost:8080/"
        },
        "id": "4OCX6i8SxXKs",
        "outputId": "90139abb-59e2-40ea-dfea-45539fe760af"
      },
      "execution_count": 4,
      "outputs": [
        {
          "output_type": "execute_result",
          "data": {
            "text/plain": [
              "0.23742603550295852"
            ]
          },
          "metadata": {},
          "execution_count": 4
        }
      ]
    },
    {
      "cell_type": "code",
      "source": [
        "1 - (5/98) **2 - (44/98)**2 - (49/98)**2"
      ],
      "metadata": {
        "colab": {
          "base_uri": "https://localhost:8080/"
        },
        "id": "r4j9UltXxdY8",
        "outputId": "b28f732b-825c-4053-c95e-3d181c358d0a"
      },
      "execution_count": 5,
      "outputs": [
        {
          "output_type": "execute_result",
          "data": {
            "text/plain": [
              "0.5458142440649729"
            ]
          },
          "metadata": {},
          "execution_count": 5
        }
      ]
    },
    {
      "cell_type": "markdown",
      "source": [
        "### <a name='2'></a> Entropia"
      ],
      "metadata": {
        "id": "z0fhO_R7ww1Y"
      }
    },
    {
      "cell_type": "code",
      "source": [
        "-((50/150) * np.log2(50/150) + (50/150) * np.log2(50/150) + (50/150) * np.log2(50/150))"
      ],
      "metadata": {
        "colab": {
          "base_uri": "https://localhost:8080/"
        },
        "id": "Ly8ugGnExmkg",
        "outputId": "c5c041e1-5838-4dae-f76c-83e6ce2b30ed"
      },
      "execution_count": 7,
      "outputs": [
        {
          "output_type": "execute_result",
          "data": {
            "text/plain": [
              "np.float64(1.584962500721156)"
            ]
          },
          "metadata": {},
          "execution_count": 7
        }
      ]
    },
    {
      "cell_type": "code",
      "source": [
        "-((47/59) * np.log2(47/59) + (11/59) * np.log2(11/59) + (1/59) * np.log2(1/59))"
      ],
      "metadata": {
        "colab": {
          "base_uri": "https://localhost:8080/"
        },
        "id": "OABdHYr5x2MO",
        "outputId": "6785cff0-9116-40c9-a1af-6e3f175172fc"
      },
      "execution_count": 8,
      "outputs": [
        {
          "output_type": "execute_result",
          "data": {
            "text/plain": [
              "np.float64(0.8128223064150747)"
            ]
          },
          "metadata": {},
          "execution_count": 8
        }
      ]
    },
    {
      "cell_type": "code",
      "source": [
        "-((3/91) * np.log2(3/91) + (39/91) * np.log2(39/91) + (49/91) * np.log2(49/91))"
      ],
      "metadata": {
        "colab": {
          "base_uri": "https://localhost:8080/"
        },
        "id": "fOnZ_KE3yF8x",
        "outputId": "87ad840f-2dd7-4a7a-d32c-07e2f6caac69"
      },
      "execution_count": 9,
      "outputs": [
        {
          "output_type": "execute_result",
          "data": {
            "text/plain": [
              "np.float64(1.167065448996099)"
            ]
          },
          "metadata": {},
          "execution_count": 9
        }
      ]
    },
    {
      "cell_type": "code",
      "source": [
        "from scipy.stats import entropy\n",
        "\n",
        "print(entropy([0.5, 0.5], base=2))\n",
        "print(entropy([0.8, 0.2], base=2))\n",
        "print(entropy([0.95, 0.05], base=2))"
      ],
      "metadata": {
        "colab": {
          "base_uri": "https://localhost:8080/"
        },
        "id": "ihGa5gb8yRCI",
        "outputId": "d03d2f1a-a4f7-4bcf-a636-c5aecafe7b4f"
      },
      "execution_count": 11,
      "outputs": [
        {
          "output_type": "stream",
          "name": "stdout",
          "text": [
            "1.0\n",
            "0.7219280948873623\n",
            "0.2863969571159562\n"
          ]
        }
      ]
    },
    {
      "cell_type": "code",
      "source": [
        "def entropy(x):\n",
        "  return -np.sum(x*np.log2(x))\n",
        "\n",
        "print(entropy([0.5, 0.5]))\n",
        "print(entropy([0.8, 0.2]))\n",
        "print(entropy([0.95, 0.05]))"
      ],
      "metadata": {
        "colab": {
          "base_uri": "https://localhost:8080/"
        },
        "id": "e1NyT2UcyhZ8",
        "outputId": "ff4d2816-a630-4f2f-924b-a522f1cde7d4"
      },
      "execution_count": 13,
      "outputs": [
        {
          "output_type": "stream",
          "name": "stdout",
          "text": [
            "1.0\n",
            "0.7219280948873623\n",
            "0.28639695711595625\n"
          ]
        }
      ]
    },
    {
      "cell_type": "code",
      "source": [
        "p = np.arange(0.01, 1.0, 0.01)\n",
        "q = 1-p\n",
        "pq = np.c_[p,q]\n",
        "pq[:10]"
      ],
      "metadata": {
        "colab": {
          "base_uri": "https://localhost:8080/"
        },
        "id": "jzmuU5dKysvn",
        "outputId": "b6aeae66-0a31-47d5-bfce-3b34210578f1"
      },
      "execution_count": 14,
      "outputs": [
        {
          "output_type": "execute_result",
          "data": {
            "text/plain": [
              "array([[0.01, 0.99],\n",
              "       [0.02, 0.98],\n",
              "       [0.03, 0.97],\n",
              "       [0.04, 0.96],\n",
              "       [0.05, 0.95],\n",
              "       [0.06, 0.94],\n",
              "       [0.07, 0.93],\n",
              "       [0.08, 0.92],\n",
              "       [0.09, 0.91],\n",
              "       [0.1 , 0.9 ]])"
            ]
          },
          "metadata": {},
          "execution_count": 14
        }
      ]
    },
    {
      "cell_type": "code",
      "source": [
        "entropies = [entropy(pair) for pair in pq]\n",
        "entropies[:10]"
      ],
      "metadata": {
        "colab": {
          "base_uri": "https://localhost:8080/"
        },
        "id": "nBIVE09qy26W",
        "outputId": "b0e353ef-57cf-444d-d13f-19525bcb0723"
      },
      "execution_count": 15,
      "outputs": [
        {
          "output_type": "execute_result",
          "data": {
            "text/plain": [
              "[np.float64(0.08079313589591118),\n",
              " np.float64(0.14144054254182067),\n",
              " np.float64(0.1943918578315762),\n",
              " np.float64(0.24229218908241482),\n",
              " np.float64(0.28639695711595625),\n",
              " np.float64(0.32744491915447627),\n",
              " np.float64(0.3659236509002231),\n",
              " np.float64(0.4021791902022728),\n",
              " np.float64(0.43646981706410287),\n",
              " np.float64(0.4689955935892812)]"
            ]
          },
          "metadata": {},
          "execution_count": 15
        }
      ]
    },
    {
      "cell_type": "code",
      "source": [
        "plt.plot(p, entropies)"
      ],
      "metadata": {
        "colab": {
          "base_uri": "https://localhost:8080/",
          "height": 455
        },
        "id": "MJX9niTIzAXO",
        "outputId": "2ae75050-bebd-4012-b793-61764fecd280"
      },
      "execution_count": 16,
      "outputs": [
        {
          "output_type": "execute_result",
          "data": {
            "text/plain": [
              "[<matplotlib.lines.Line2D at 0x7f963b479b50>]"
            ]
          },
          "metadata": {},
          "execution_count": 16
        },
        {
          "output_type": "display_data",
          "data": {
            "text/plain": [
              "<Figure size 640x480 with 1 Axes>"
            ],
            "image/png": "[encoded data removed]"
          },
          "metadata": {}
        }
      ]
    },
    {
      "cell_type": "markdown",
      "source": [
        "### <a name='3'></a> Zysk informacyjny\n"
      ],
      "metadata": {
        "id": "aeWnMfn-wzEf"
      }
    },
    {
      "cell_type": "code",
      "execution_count": 17,
      "metadata": {
        "colab": {
          "base_uri": "https://localhost:8080/"
        },
        "id": "rbg7DeWFqAQc",
        "outputId": "9352e3ad-aa89-42a4-e0b4-4273fd7ee3d2"
      },
      "outputs": [
        {
          "output_type": "execute_result",
          "data": {
            "text/plain": [
              "np.float64(-0.9709505944546686)"
            ]
          },
          "metadata": {},
          "execution_count": 17
        }
      ],
      "source": [
        "entropia = (6/10 * np.log2(6/10) + (4/10) * np.log2(4/10))\n",
        "entropia"
      ]
    },
    {
      "cell_type": "code",
      "source": [
        "entropia_wiarygodnosc = 5/10 * 0 + 2/10 * 1 + 3/10 * 0\n",
        "entropia_wiarygodnosc"
      ],
      "metadata": {
        "colab": {
          "base_uri": "https://localhost:8080/"
        },
        "id": "xomLeU0rzdqN",
        "outputId": "cb001f29-4f0e-4b11-8a61-379fe366ebc9"
      },
      "execution_count": 18,
      "outputs": [
        {
          "output_type": "execute_result",
          "data": {
            "text/plain": [
              "0.2"
            ]
          },
          "metadata": {},
          "execution_count": 18
        }
      ]
    },
    {
      "cell_type": "code",
      "source": [
        "entropia_dochod = 3/10 * 0 + 4/10 * 1 + 3/10 * 0.9183\n",
        "entropia_dochod"
      ],
      "metadata": {
        "colab": {
          "base_uri": "https://localhost:8080/"
        },
        "id": "YGywy92MzmCV",
        "outputId": "87908360-6957-4a8e-cd97-a76cbbd1ca03"
      },
      "execution_count": 19,
      "outputs": [
        {
          "output_type": "execute_result",
          "data": {
            "text/plain": [
              "0.67549"
            ]
          },
          "metadata": {},
          "execution_count": 19
        }
      ]
    },
    {
      "cell_type": "code",
      "source": [
        "ig_wiarygodnosc = entropia - entropia_wiarygodnosc\n",
        "ig_dochod = entropia - entropia_dochod\n",
        "print('Zysk informacyjny (IG): wiarygodność:', ig_wiarygodnosc)\n",
        "print('Zysk informacyjny (IG) : dochód:', ig_dochod)"
      ],
      "metadata": {
        "colab": {
          "base_uri": "https://localhost:8080/"
        },
        "id": "ttwoVCh6zyl9",
        "outputId": "228bd776-c886-4a0c-c57c-9e537657bc12"
      },
      "execution_count": 20,
      "outputs": [
        {
          "output_type": "stream",
          "name": "stdout",
          "text": [
            "Zysk informacyjny (IG): wiarygodność: -1.1709505944546685\n",
            "Zysk informacyjny (IG) : dochód: -1.6464405944546687\n"
          ]
        }
      ]
    },
    {
      "cell_type": "code",
      "source": [],
      "metadata": {
        "id": "Vv47VZkw0HZC"
      },
      "execution_count": null,
      "outputs": []
    }
  ]
}